{
 "cells": [
  {
   "cell_type": "code",
   "execution_count": 8,
   "metadata": {},
   "outputs": [],
   "source": [
    "from skimage.metrics import structural_similarity\n",
    "import imutils\n",
    "import cv2\n",
    "from PIL import Image\n",
    "import requests"
   ]
  },
  {
   "cell_type": "code",
   "execution_count": 9,
   "metadata": {},
   "outputs": [
    {
     "name": "stdout",
     "output_type": "stream",
     "text": [
      "mkdir: pan_card_tampering: File exists\n",
      "mkdir: pan_card_tampering/image: File exists\n"
     ]
    }
   ],
   "source": [
    "!mkdir pan_card_tampering\n",
    "!mkdir pan_card_tampering/image"
   ]
  },
  {
   "cell_type": "code",
   "execution_count": 11,
   "metadata": {},
   "outputs": [],
   "source": [
    "# Open image and display\n",
    "original = Image.open(requests.get(\"https://www.thestatesman.com/wp-content/uploads/2019/07/pan-card.jpg\", stream=True).raw)\n",
    "tampered = Image.open(requests.get(\"https://assets1.cleartax-cdn.com/s/img/20170526124335/Pan4.png\",stream=True).raw)"
   ]
  },
  {
   "cell_type": "code",
   "execution_count": 12,
   "metadata": {},
   "outputs": [
    {
     "name": "stdout",
     "output_type": "stream",
     "text": [
      "Original image format:  JPEG\n",
      "Tampered image format:  PNG\n",
      "Original image size:  (1200, 800)\n",
      "Tampered image size:  (282, 179)\n"
     ]
    }
   ],
   "source": [
    "#file format of the image\n",
    "print(\"Original image format: \", original.format)\n",
    "print(\"Tampered image format: \", tampered.format)\n",
    "\n",
    "#image size given as a tuple (width, height)\n",
    "print(\"Original image size: \", original.size)\n",
    "print(\"Tampered image size: \", tampered.size)"
   ]
  },
  {
   "cell_type": "code",
   "execution_count": 13,
   "metadata": {},
   "outputs": [
    {
     "name": "stdout",
     "output_type": "stream",
     "text": [
      "(250, 160)\n",
      "(250, 160)\n"
     ]
    }
   ],
   "source": [
    "#Resize Image\n",
    "original = original.resize((250,160))\n",
    "print(original.size)\n",
    "original.save(\"pan_card_tampering/image/original.png\")\n",
    "tampered = tampered.resize((250,160))\n",
    "print(tampered.size)\n",
    "tampered.save(\"pan_card_tampering/image/tampered.png\")"
   ]
  }
 ],
 "metadata": {
  "kernelspec": {
   "display_name": "venv",
   "language": "python",
   "name": "python3"
  },
  "language_info": {
   "codemirror_mode": {
    "name": "ipython",
    "version": 3
   },
   "file_extension": ".py",
   "mimetype": "text/x-python",
   "name": "python",
   "nbconvert_exporter": "python",
   "pygments_lexer": "ipython3",
   "version": "3.13.1"
  }
 },
 "nbformat": 4,
 "nbformat_minor": 2
}
